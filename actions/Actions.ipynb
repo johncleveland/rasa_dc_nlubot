{
 "cells": [
  {
   "cell_type": "code",
   "execution_count": 1,
   "id": "0df56558-d019-42bd-b5c6-2fb03819f7e5",
   "metadata": {},
   "outputs": [],
   "source": [
    "\n",
    "import json\n",
    "import requests\n",
    "#from dotenv import load_dotenv\n",
    "from pathlib import Path\n",
    "import os \n",
    "from ruamel.yaml import YAML\n",
    "\n",
    "here= Path.cwd()"
   ]
  },
  {
   "cell_type": "markdown",
   "id": "f2696603-a97b-4717-b67e-9ba599fd756b",
   "metadata": {},
   "source": [
    "# Freshdesk Api https://developer.freshdesk.com/api/#introduction"
   ]
  },
  {
   "cell_type": "markdown",
   "id": "de8ae8d8-ba13-4c8b-aa0a-0277754613ef",
   "metadata": {
    "tags": []
   },
   "source": [
    "| status        | priority           |\n",
    "|---------------| ------------------ |\n",
    "| open: 2       | Low : 1            |\n",
    "| pending: 3    | Medium :2         |\n",
    "| resolved : 4  | High : 3           |\n",
    "| closed: 5     | Urgent: 4           |"
   ]
  },
  {
   "cell_type": "markdown",
   "id": "92a9f9e8-0bd0-431d-952f-b5174273a373",
   "metadata": {},
   "source": [
    "# Obtain Freshdesk credentials for env.yml file "
   ]
  },
  {
   "cell_type": "code",
   "execution_count": 2,
   "id": "7241c875-0c3a-4b9e-84e5-98e676b6f157",
   "metadata": {},
   "outputs": [],
   "source": [
    "yaml=YAML(typ='safe')   # default, if not specfied, is 'rt' (round-trip)\n",
    "here= Path.cwd()\n",
    "doc = open(f\"{here}/env.yml\", \"r\")\n",
    "fresh_config = yaml.load(doc) or {}   \n",
    "\n",
    "BASE_URL= fresh_config['base_url']\n",
    "ALL_TICKETS_URL = BASE_URL + 'tickets'\n",
    "API_KEY= fresh_config['api_key']"
   ]
  },
  {
   "cell_type": "markdown",
   "id": "63012db5-f929-4d47-9d24-e5f78073637e",
   "metadata": {},
   "source": [
    "# Show all tickets "
   ]
  },
  {
   "cell_type": "markdown",
   "id": "7d646efa-2e32-4141-a0fe-2d12207cfd6c",
   "metadata": {},
   "source": [
    "**sample curl** : \n",
    "curl -v -u yourapikey:X -X GET 'https://domain.freshdesk.com/api/v2/tickets'"
   ]
  },
  {
   "cell_type": "code",
   "execution_count": 7,
   "id": "ecae18d8-75ac-4b6d-967c-50ab39d5ee31",
   "metadata": {},
   "outputs": [],
   "source": [
    "def show_all():\n",
    "    response = requests.get(ALL_TICKETS_URL,auth=(API_KEY, 'X'))\n",
    "    return response.json()"
   ]
  },
  {
   "cell_type": "code",
   "execution_count": 9,
   "id": "4ca9376c-4a0c-4f82-859d-29c5b254b8c6",
   "metadata": {
    "tags": []
   },
   "outputs": [
    {
     "name": "stdout",
     "output_type": "stream",
     "text": [
      " There are 13 messages total. \n",
      "\n",
      "1.\n",
      "id:20\n",
      "subject: problem email\n",
      "Created Date: 2021-06-30T00:51:33Z\n",
      "2.\n",
      "id:19\n",
      "subject: s00\n",
      "Created Date: 2021-06-30T00:41:13Z\n",
      "3.\n",
      "id:12\n",
      "subject: (#728050714) Gmail Forwarding Confirmation - Receive Mail from ldemo799@gmail.com\n",
      "Created Date: 2021-06-24T00:39:50Z\n",
      "4.\n",
      "id:7\n",
      "subject: How can I get a refund for my order?\n",
      "Created Date: 2021-06-23T21:51:00Z\n",
      "5.\n",
      "id:6\n",
      "subject: How do I place a custom order?\n",
      "Created Date: 2021-06-23T21:51:00Z\n",
      "6.\n",
      "id:5\n",
      "subject: My return was not picked up\n",
      "Created Date: 2021-06-23T21:51:00Z\n",
      "7.\n",
      "id:4\n",
      "subject: How much time does it take to get my money back!????\n",
      "Created Date: 2021-06-23T21:51:00Z\n",
      "8.\n",
      "id:3\n",
      "subject: Vintage table lamp - Out of stock?\n",
      "Created Date: 2021-06-23T21:51:00Z\n",
      "9.\n",
      "id:2\n",
      "subject: Mary Jane shoes in Size 8?\n",
      "Created Date: 2021-06-23T21:51:00Z\n",
      "10.\n",
      "id:1\n",
      "subject: Payment failed?\n",
      "Created Date: 2021-06-23T21:51:00Z\n",
      "11.\n",
      "id:11\n",
      "subject: Adding a new payment method\n",
      "Created Date: 2021-06-23T21:18:00Z\n",
      "12.\n",
      "id:10\n",
      "subject: Email address change\n",
      "Created Date: 2021-06-23T21:12:00Z\n",
      "13.\n",
      "id:8\n",
      "subject: Need to change my shipping address\n",
      "Created Date: 2021-06-23T20:54:00Z\n"
     ]
    }
   ],
   "source": [
    "data=show_all()\n",
    "length=len(data)\n",
    "print( f\" There are {length} messages total. \\n\")\n",
    "for i in range(length):\n",
    "    message=str((i+1))+ '.'+'\\n' + 'id:'+ str(data[i]['id']) + '\\n'+ 'subject: '+ data[i]['subject']+'\\n'+'Created Date: '+data[i]['created_at']    \n",
    "    print(f\"{message}\")"
   ]
  },
  {
   "cell_type": "markdown",
   "id": "0c059e39-c5ed-4f66-990f-98f406734fd2",
   "metadata": {},
   "source": [
    "# (Create) Create ticket"
   ]
  },
  {
   "cell_type": "markdown",
   "id": "0a0cdc0e-49ed-450a-8eeb-51a04714c62b",
   "metadata": {},
   "source": [
    "**sample curl** :  \n",
    "curl -v -u yourapikey:X -H \"Content-Type: application/json\"\n",
    "    -d '{ \"description\": \"Details about the issue...\", \"subject\": \"Support Needed...\", \"email\": \"tom@outerspace.com\", \"priority\": 1, \"status\": 2, \"cc_emails\": [\"ram@freshdesk.com\",\"diana@freshdesk.com\"] }' -X POST 'https://domain.freshdesk.com/api/v2/tickets'"
   ]
  },
  {
   "cell_type": "code",
   "execution_count": 10,
   "id": "62099948-255a-4224-a669-928350850755",
   "metadata": {},
   "outputs": [],
   "source": [
    "def create_ticket(description,subject,email,priority,status):\n",
    "    \"\"\"api call for create aticket in freshdesk help desk\"\"\"\n",
    "    \n",
    "    headers = { 'Content-Type': 'application/json'}\n",
    "    \n",
    "    data = { \"description\": description, \"subject\": subject, \"email\": email, \"priority\": priority, \"status\": status} \n",
    "    \n",
    "    json_data=json.dumps(data);\n",
    "\n",
    "    response = requests.post(ALL_TICKETS_URL, headers=headers, data=json_data, auth=(API_KEY, 'X'))\n",
    "\n",
    "    return response.status_code, response.json()\n"
   ]
  },
  {
   "cell_type": "code",
   "execution_count": 11,
   "id": "dced845b-5d17-4e59-b14f-47d9c3d305ac",
   "metadata": {
    "tags": []
   },
   "outputs": [
    {
     "data": {
      "text/plain": [
       "(201,\n",
       " {'cc_emails': [],\n",
       "  'fwd_emails': [],\n",
       "  'reply_cc_emails': [],\n",
       "  'ticket_cc_emails': [],\n",
       "  'fr_escalated': False,\n",
       "  'spam': False,\n",
       "  'email_config_id': None,\n",
       "  'group_id': None,\n",
       "  'priority': 2,\n",
       "  'requester_id': 69008212461,\n",
       "  'responder_id': None,\n",
       "  'source': 2,\n",
       "  'company_id': None,\n",
       "  'status': 3,\n",
       "  'subject': 'problem email',\n",
       "  'support_email': None,\n",
       "  'to_emails': None,\n",
       "  'product_id': None,\n",
       "  'id': 30,\n",
       "  'type': None,\n",
       "  'due_by': '2021-07-08T21:00:00Z',\n",
       "  'fr_due_by': '2021-07-08T20:00:00Z',\n",
       "  'is_escalated': False,\n",
       "  'description': '<div>my description</div>',\n",
       "  'description_text': 'my description',\n",
       "  'custom_fields': {},\n",
       "  'created_at': '2021-07-08T03:40:47Z',\n",
       "  'updated_at': '2021-07-08T03:40:47Z',\n",
       "  'tags': [],\n",
       "  'attachments': [],\n",
       "  'nr_due_by': None,\n",
       "  'nr_escalated': False})"
      ]
     },
     "execution_count": 11,
     "metadata": {},
     "output_type": "execute_result"
    }
   ],
   "source": [
    "description = f\"my description\"\n",
    "subject = f'problem email'\n",
    "email= f'go@gmail.com'\n",
    "priority= 2\n",
    "status =3\n",
    "create_ticket( description, subject, email, priority, status)"
   ]
  },
  {
   "cell_type": "markdown",
   "id": "f6554aa3-e210-4134-9300-e8a9d9e83a43",
   "metadata": {},
   "source": [
    "# (Read) View a Ticket Id"
   ]
  },
  {
   "cell_type": "markdown",
   "id": "0f5578ea-3498-47b6-b09f-40d66bf7d66a",
   "metadata": {},
   "source": [
    "**sample curl**:\n",
    "curl -v -u yourapikey:X -H \"Content-Type: application/json\" -X GET 'https://domain.freshdesk.com/api/v2/tickets/20'"
   ]
  },
  {
   "cell_type": "code",
   "execution_count": 12,
   "id": "2db7d82c-f388-4ed5-a072-1644a67ae3f4",
   "metadata": {},
   "outputs": [],
   "source": [
    "def view_id(id, all_tickets_url):\n",
    "    \"\"\"api call for viewing a ticket in freshdesk\"\"\"\n",
    "    \n",
    "    headers = { 'Content-Type': 'application/json'}\n",
    "    \n",
    "    id_url= all_tickets_url + '/'+ str(id)\n",
    "\n",
    "    response = requests.get(id_url, headers=headers, auth=(API_KEY, 'X'))\n",
    "\n",
    "    return response.status_code, response.json()\n"
   ]
  },
  {
   "cell_type": "code",
   "execution_count": 13,
   "id": "43a5ef2b-eb6d-410d-afce-a8c1f7b5494b",
   "metadata": {
    "tags": []
   },
   "outputs": [
    {
     "data": {
      "text/plain": [
       "(200,\n",
       " {'cc_emails': [],\n",
       "  'fwd_emails': [],\n",
       "  'reply_cc_emails': [],\n",
       "  'ticket_cc_emails': [],\n",
       "  'fr_escalated': False,\n",
       "  'spam': False,\n",
       "  'email_config_id': None,\n",
       "  'group_id': 69000421241,\n",
       "  'priority': 2,\n",
       "  'requester_id': 69007688811,\n",
       "  'responder_id': None,\n",
       "  'source': 1,\n",
       "  'company_id': None,\n",
       "  'status': 2,\n",
       "  'subject': 'Need to change my shipping address',\n",
       "  'association_type': None,\n",
       "  'support_email': None,\n",
       "  'to_emails': None,\n",
       "  'product_id': None,\n",
       "  'id': 8,\n",
       "  'type': 'Question',\n",
       "  'due_by': '2021-06-25T12:00:00Z',\n",
       "  'fr_due_by': '2021-06-24T20:00:00Z',\n",
       "  'is_escalated': True,\n",
       "  'description': 'Hi,<br><br> I have to leave the city for a week and I’m afraid nobody will be there to collect my order (#555) when it arrives.<br><br> Is there a way for me I can change my shipping address?<br><br> Thanks,<br> Anne Richard',\n",
       "  'description_text': 'Hi,\\n\\nI have to leave the city for a week and I’m afraid nobody will be there to collect my order (#555) when it arrives.\\n\\nIs there a way for me I can change my shipping address?\\n\\nThanks,\\nAnne Richard',\n",
       "  'custom_fields': {},\n",
       "  'created_at': '2021-06-23T20:54:00Z',\n",
       "  'updated_at': '2021-06-25T12:14:27Z',\n",
       "  'tags': [],\n",
       "  'attachments': [],\n",
       "  'source_additional_info': None,\n",
       "  'nr_due_by': None,\n",
       "  'nr_escalated': False})"
      ]
     },
     "execution_count": 13,
     "metadata": {},
     "output_type": "execute_result"
    }
   ],
   "source": [
    "view_id(8, ALL_TICKETS_URL)"
   ]
  },
  {
   "cell_type": "markdown",
   "id": "913280ec-00a8-47bc-a048-cb966aca8fdd",
   "metadata": {},
   "source": [
    "# (Update) Update Ticket Id"
   ]
  },
  {
   "cell_type": "markdown",
   "id": "0f939b51-ad42-4fb9-9ccc-a62f0704b4c7",
   "metadata": {},
   "source": [
    "**sample curl**: \n",
    "curl -v -u yourapikey:X -H \"Content-Type: application/json\" -X PUT -d '{ \"priority\":2, \"status\":3 }' 'https://domain.freshdesk.com/api/v2/tickets/1'"
   ]
  },
  {
   "cell_type": "code",
   "execution_count": 18,
   "id": "bfc0f4dc-36b1-4def-9782-e045984dab45",
   "metadata": {},
   "outputs": [],
   "source": [
    "def update_ticket(ticket_id,priority,status):\n",
    "    \"\"\"api call for update a tiket in freshdesk\"\"\"\n",
    "\n",
    "    headers = { 'Content-Type': 'application/json'}\n",
    "    \n",
    "    ticket_id_url= ALL_TICKETS_URL+'/'+str(ticket_id)\n",
    "\n",
    "    data = { \"priority\": priority, \"status\": status }\n",
    "    \n",
    "    json_data=json.dumps(data);\n",
    "    \n",
    "    response = requests.put(ticket_id_url, headers=headers, data=json_data, auth=(API_KEY, 'X'))\n",
    "    \n",
    "    return response.status_code, response.json()"
   ]
  },
  {
   "cell_type": "code",
   "execution_count": 19,
   "id": "0803d086-b2ea-4ff6-8c14-cff5de2a739c",
   "metadata": {
    "tags": []
   },
   "outputs": [
    {
     "data": {
      "text/plain": [
       "(200,\n",
       " {'cc_emails': [],\n",
       "  'fwd_emails': [],\n",
       "  'reply_cc_emails': [],\n",
       "  'ticket_cc_emails': [],\n",
       "  'spam': False,\n",
       "  'email_config_id': 69000073445,\n",
       "  'fr_escalated': True,\n",
       "  'group_id': 69000421241,\n",
       "  'priority': 1,\n",
       "  'requester_id': 69007690572,\n",
       "  'responder_id': None,\n",
       "  'source': 1,\n",
       "  'status': 3,\n",
       "  'subject': '(#728050714) Gmail Forwarding Confirmation - Receive Mail from ldemo799@gmail.com',\n",
       "  'company_id': None,\n",
       "  'custom_fields': {},\n",
       "  'description': '<div>ldemo799@gmail.com has requested to automatically forward mail to your email<br>address support@libertydemo.freshdesk.com.<br>Confirmation code: 728050714<br><br>To allow ldemo799@gmail.com to automatically forward mail to your address,<br>please click the link below to confirm the request:<br><br><a href=\"https://mail-settings.google.com/mail/vf-%5BANGjdJ-BTA6dfTp3_eynvkZj76oWNhGVDHofUUZrZ4G8Irq2DVpT7LhbYs0IiZqODzf3hO1UKQTm2huVoOy1xgQjV48h9qc7kwnZfY1IFg%5D-Sjb_IGI-D4o0ZgBpL_DJCe2-VCY\" rel=\"noreferrer\">https://mail-settings.google.com/mail/vf-%5BANGjdJ-BTA6dfTp3_eynvkZj76oWNhGVDHofUUZrZ4G8Irq2DVpT7LhbYs0IiZqODzf3hO1UKQTm2huVoOy1xgQjV48h9qc7kwnZfY1IFg%5D-Sjb_IGI-D4o0ZgBpL_DJCe2-VCY</a><br><br>If you click the link and it appears to be broken, please copy and paste it<br>into a new browser window. If you aren\\'t able to access the link, you<br>can send the confirmation code<br>728050714 to ldemo799@gmail.com.<br><br>Thanks for using Gmail!<br><br>Sincerely,<br><br>The Gmail Team<br><br>If you do not approve of this request, no further action is required.<br>ldemo799@gmail.com cannot automatically forward messages to your email address<br>unless you confirm the request by clicking the link above. If you accidentally<br>clicked the link, but you do not want to allow ldemo799@gmail.com to<br>automatically forward messages to your address, click this link to cancel this<br>verification:<br><a href=\"https://mail-settings.google.com/mail/uf-%5BANGjdJ9EEnXst2bKlcFKj7X74GPuXMLhH3KsC9Gu87JZk8r36h8X_RuP7fGDdspmkTS6QLkTPSVPzA4vKa6lU3YNP91SNrCfAeSQFwN9Uw%5D-Sjb_IGI-D4o0ZgBpL_DJCe2-VCY\" rel=\"noreferrer\">https://mail-settings.google.com/mail/uf-%5BANGjdJ9EEnXst2bKlcFKj7X74GPuXMLhH3KsC9Gu87JZk8r36h8X_RuP7fGDdspmkTS6QLkTPSVPzA4vKa6lU3YNP91SNrCfAeSQFwN9Uw%5D-Sjb_IGI-D4o0ZgBpL_DJCe2-VCY</a><br><br>To learn more about why you might have received this message, please<br>visit: <a href=\"http://support.google.com/mail/bin/answer.py?answer=184973\" rel=\"noreferrer\">http://support.google.com/mail/bin/answer.py?answer=184973</a>.<br><br>Please do not respond to this message. If you\\'d like to contact the<br>Google.com Team, please log in to your account and click \\'Help\\' at<br>the top of any page. Then, click \\'Contact Us\\' along the bottom of the<br>Help Center.<br>\\n</div>\\n',\n",
       "  'description_text': \"ldemo799@gmail.com has requested to automatically forward mail to your email\\r\\naddress support@libertydemo.freshdesk.com.\\r\\nConfirmation code: 728050714\\r\\n\\r\\nTo allow ldemo799@gmail.com to automatically forward mail to your address,\\r\\nplease click the link below to confirm the request:\\r\\n\\r\\nhttps://mail-settings.google.com/mail/vf-%5BANGjdJ-BTA6dfTp3_eynvkZj76oWNhGVDHofUUZrZ4G8Irq2DVpT7LhbYs0IiZqODzf3hO1UKQTm2huVoOy1xgQjV48h9qc7kwnZfY1IFg%5D-Sjb_IGI-D4o0ZgBpL_DJCe2-VCY\\r\\n\\r\\nIf you click the link and it appears to be broken, please copy and paste it\\r\\ninto a new browser window. If you aren't able to access the link, you\\r\\ncan send the confirmation code\\r\\n728050714 to ldemo799@gmail.com.\\r\\n\\r\\nThanks for using Gmail!\\r\\n\\r\\nSincerely,\\r\\n\\r\\nThe Gmail Team\\r\\n\\r\\nIf you do not approve of this request, no further action is required.\\r\\nldemo799@gmail.com cannot automatically forward messages to your email address\\r\\nunless you confirm the request by clicking the link above. If you accidentally\\r\\nclicked the link, but you do not want to allow ldemo799@gmail.com to\\r\\nautomatically forward messages to your address, click this link to cancel this\\r\\nverification:\\r\\nhttps://mail-settings.google.com/mail/uf-%5BANGjdJ9EEnXst2bKlcFKj7X74GPuXMLhH3KsC9Gu87JZk8r36h8X_RuP7fGDdspmkTS6QLkTPSVPzA4vKa6lU3YNP91SNrCfAeSQFwN9Uw%5D-Sjb_IGI-D4o0ZgBpL_DJCe2-VCY\\r\\n\\r\\nTo learn more about why you might have received this message, please\\r\\nvisit: http://support.google.com/mail/bin/answer.py?answer=184973.\\r\\n\\r\\nPlease do not respond to this message. If you'd like to contact the\\r\\nGoogle.com Team, please log in to your account and click 'Help' at\\r\\nthe top of any page. Then, click 'Contact Us' along the bottom of the\\r\\nHelp Center.\\r\\n\",\n",
       "  'id': 12,\n",
       "  'type': None,\n",
       "  'support_email': 'support@libertydemo.freshdesk.com',\n",
       "  'to_emails': ['support@libertydemo.freshdesk.com'],\n",
       "  'product_id': None,\n",
       "  'attachments': [],\n",
       "  'is_escalated': True,\n",
       "  'tags': [],\n",
       "  'nr_escalated': False,\n",
       "  'created_at': '2021-06-24T00:39:50Z',\n",
       "  'updated_at': '2021-07-08T03:43:11Z',\n",
       "  'due_by': '2021-06-28T21:00:00Z',\n",
       "  'fr_due_by': '2021-06-24T21:00:00Z',\n",
       "  'nr_due_by': None})"
      ]
     },
     "execution_count": 19,
     "metadata": {},
     "output_type": "execute_result"
    }
   ],
   "source": [
    " update_ticket(12, 1,3 )"
   ]
  },
  {
   "cell_type": "markdown",
   "id": "7debe2fa-f537-4347-be75-45c698a7baa0",
   "metadata": {},
   "source": [
    "# (Delete) Delete Ticket Id"
   ]
  },
  {
   "cell_type": "markdown",
   "id": "6682f941-302b-4736-a58c-9c53c0f92021",
   "metadata": {},
   "source": [
    "**sample curl:** curl -v -u yourapikey:X -H \"Content-Type: application/json\" -X POST -d '{\"bulk_action\": {\"ids\": [20,21,22]}}' 'https://domain.freshdesk.com/api/v2/tickets/bulk_delete'"
   ]
  },
  {
   "cell_type": "code",
   "execution_count": 20,
   "id": "faef5224-646f-4b41-b674-da61a64d394e",
   "metadata": {},
   "outputs": [],
   "source": [
    "def delete_tickets(ticket_array, all_tickets_url= ALL_TICKETS_URL):\n",
    "    \"\"\"api call for updating a ticket in freshdesk\"\"\"\n",
    "\n",
    "    headers = { 'Content-Type': 'application/json'}\n",
    "    \n",
    "    ticket_array_url= all_tickets_url +'/'+ 'bulk_delete'\n",
    "\n",
    "    data = { \"bulk_action\": {\"ids\":ticket_array} }\n",
    "    \n",
    "    json_data=json.dumps(data);\n",
    "    \n",
    "    response = requests.post(ticket_array_url, headers=headers, data=json_data, auth=(API_KEY, 'X'))\n",
    "   # print( json_data) \n",
    "    return response.status_code, response.json()"
   ]
  },
  {
   "cell_type": "code",
   "execution_count": 21,
   "id": "cd30dc81-7dc9-428d-b385-04b1f7a6fa2f",
   "metadata": {},
   "outputs": [
    {
     "data": {
      "text/plain": [
       "(202,\n",
       " {'job_id': 'ce799420-bac9-4dfd-b25a-91cb038f7a62',\n",
       "  'href': 'https://libertydemo.freshdesk.com/api/v2/jobs/ce799420-bac9-4dfd-b25a-91cb038f7a62'})"
      ]
     },
     "execution_count": 21,
     "metadata": {},
     "output_type": "execute_result"
    }
   ],
   "source": [
    "delete_tickets([24])"
   ]
  },
  {
   "cell_type": "markdown",
   "id": "e13f97b8-2781-4d60-bd79-31590035dbab",
   "metadata": {},
   "source": [
    "# Send outbound e-mail: This is not implemented feel free to do so"
   ]
  },
  {
   "cell_type": "markdown",
   "id": "771d4d3e-333d-431c-914d-75fe97b723dc",
   "metadata": {},
   "source": [
    "**sample curl:** curl -v -u yourapikey:X -H \"Content-Type: application/json\" -d '{ \"description\": \"Details about the issue...\", \"subject\": \"Support Needed...\", \"email\": \"tom@outerspace.com\", \"priority\": 1, \"email_config_id\": 1, \"cc_emails\": [\"ram@freshdesk.com\",\"diana@freshdesk.com\"] }' -X POST 'https://domain.freshdesk.com/api/v2/tickets/outbound_email'"
   ]
  },
  {
   "cell_type": "code",
   "execution_count": 38,
   "id": "c25aa0a0-ec3c-4920-94b1-1399c7e67f83",
   "metadata": {},
   "outputs": [],
   "source": [
    "d = {\"description\": \"Details about the issue...\", \"subject\": \"Support Needed...\", \"email\":\n",
    "            \"ldemo799@gmail.com\", \"priority\": 1, \"email_config_id\": 1, \"cc_emails\": [\"jcleve72@gmail.com\",\"john.m.cleveland@ericsson.com\"] }\n",
    "\n",
    "def send_email(dic):\n",
    "    \n",
    "    \"\"\"api call for update a tiket in freshdesk\"\"\"\n",
    "\n",
    "    headers = { 'Content-Type': 'application/json'}\n",
    "    \n",
    "    ticket_id_url = ALL_TICKETS_URL + '/' + 'outbound_email'\n",
    "\n",
    "    data = { \"description\": d[\"description\"], \"subject\": d[\"subject\"], \"email\": d[\"email\"], \"priority\": d[\"priority\"] \n",
    "       \"email_config_id\": d[\"email_config_id\"] , \"cc_emails\": d[\"cc_emails\"]}\n",
    "    \n",
    "    json_data=json.dumps(data);\n",
    "    \n",
    "    response = requests.post(ticket_id_url, headers=headers, data=json_data, auth=( API_KEY, 'X'))\n",
    "   \n",
    "    return response.status_code, response.json()"
   ]
  },
  {
   "cell_type": "code",
   "execution_count": 39,
   "id": "66709733-f8af-4b1a-9bca-1d5d2d389a4c",
   "metadata": {},
   "outputs": [
    {
     "data": {
      "text/plain": [
       "(400,\n",
       " {'description': 'Validation failed',\n",
       "  'errors': [{'field': 'email_config_id',\n",
       "    'message': 'It should not be blank as this is a mandatory field for outbound email ticket',\n",
       "    'code': 'missing_field'}]})"
      ]
     },
     "execution_count": 39,
     "metadata": {},
     "output_type": "execute_result"
    }
   ],
   "source": [
    "send_email(d)"
   ]
  },
  {
   "cell_type": "code",
   "execution_count": null,
   "id": "d41599f4-1fac-43e9-b35d-84d8dcc63107",
   "metadata": {},
   "outputs": [],
   "source": []
  }
 ],
 "metadata": {
  "kernelspec": {
   "display_name": "Python 3",
   "language": "python",
   "name": "python3"
  },
  "language_info": {
   "codemirror_mode": {
    "name": "ipython",
    "version": 3
   },
   "file_extension": ".py",
   "mimetype": "text/x-python",
   "name": "python",
   "nbconvert_exporter": "python",
   "pygments_lexer": "ipython3",
   "version": "3.7.4"
  }
 },
 "nbformat": 4,
 "nbformat_minor": 5
}
